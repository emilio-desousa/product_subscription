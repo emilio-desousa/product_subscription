{
 "cells": [
  {
   "cell_type": "markdown",
   "metadata": {},
   "source": [
    "# **PS2 Sans Employment_Variation_Rate"
   ]
  },
  {
   "cell_type": "code",
   "execution_count": 150,
   "metadata": {},
   "outputs": [],
   "source": [
    "import pandas as pd\n",
    "import numpy as np\n",
    "\n",
    "RANDOM_STATE = 89\n",
    "\n",
    "import product_sub.settings as stg\n",
    "from product_sub.infrastructure.eco_social import EcoSocioContext\n",
    "from product_sub.infrastructure.bank_campaign import MarketingCampaign\n",
    "from product_sub.infrastructure.dataset_builder import DatasetBuilder\n",
    "from product_sub.domain.data_cleaning import CatImputer, NumImputer\n",
    "from product_sub.domain.feature_creator import CategoricalCreatorFromNumerical, CategoricalFeatureCreator\n",
    "from product_sub.domain.feature_encoder import FrequencyEncoder, OneHotEncoder\n",
    "\n",
    "from sklearn.base import BaseEstimator, TransformerMixin\n",
    "from sklearn.compose import make_column_selector as selector\n",
    "from sklearn.compose import ColumnTransformer\n",
    "from sklearn.preprocessing import StandardScaler, MinMaxScaler, RobustScaler\n",
    "from sklearn.pipeline import FeatureUnion, Pipeline, make_pipeline, make_union\n",
    "from sklearn.model_selection import train_test_split, StratifiedKFold, GridSearchCV\n",
    "\n",
    "from sklearn.linear_model import LogisticRegression\n",
    "from sklearn.metrics import accuracy_score, classification_report, auc, confusion_matrix, mean_squared_error, plot_confusion_matrix"
   ]
  },
  {
   "cell_type": "code",
   "execution_count": 145,
   "metadata": {},
   "outputs": [],
   "source": [
    "dataset_merged = DatasetBuilder(\"data.csv\", \"socio_eco.csv\").create_dataset()"
   ]
  },
  {
   "cell_type": "code",
   "execution_count": 32,
   "metadata": {},
   "outputs": [],
   "source": [
    "X = dataset_merged.drop(columns=stg.COL_RAW_SUBSCRIPTION)\n",
    "y = dataset_merged[stg.COL_RAW_SUBSCRIPTION].values\n",
    "\n",
    "X_train, X_test, y_train, y_test = train_test_split(X, y, test_size=0.2, random_state=RANDOM_STATE)"
   ]
  },
  {
   "cell_type": "code",
   "execution_count": 33,
   "metadata": {},
   "outputs": [],
   "source": [
    "numeric_transformer = Pipeline(steps=[(\"num_imputer\", NumImputer()),\n",
    "                                      (\"create_categorical\",CategoricalCreatorFromNumerical(stg.DICT_TO_CREATE_COLS)),\n",
    "                                      (\"scaler\", MinMaxScaler())])\n",
    "\n",
    "categorical_transformer = Pipeline(steps=[(\"cat_imputer\", CatImputer()),\n",
    "                                          (\"cat_creator\", CategoricalFeatureCreator()),\n",
    "                                          (\"freq_encoder\", FrequencyEncoder(stg.COLS_TO_FREQ_ENCODE)),\n",
    "                                          (\"one_hot_encoder\", OneHotEncoder([stg.COL_RAW_JOB]))])\n",
    "\n",
    "preprocessor = ColumnTransformer(transformers=[(\"num\", numeric_transformer, selector(dtype_exclude=\"category\")),\n",
    "                                               (\"cat\", categorical_transformer, selector(dtype_include=\"category\"))])"
   ]
  },
  {
   "cell_type": "code",
   "execution_count": 74,
   "metadata": {},
   "outputs": [],
   "source": [
    "clf = Pipeline(steps=[('preprocessor' , preprocessor),\n",
    "                      ('lr',  LogisticRegression())])"
   ]
  },
  {
   "cell_type": "code",
   "execution_count": null,
   "metadata": {},
   "outputs": [],
   "source": []
  }
 ],
 "metadata": {
  "kernelspec": {
   "display_name": "ml_ps",
   "language": "python",
   "name": "ml_ps"
  },
  "language_info": {
   "codemirror_mode": {
    "name": "ipython",
    "version": 3
   },
   "file_extension": ".py",
   "mimetype": "text/x-python",
   "name": "python",
   "nbconvert_exporter": "python",
   "pygments_lexer": "ipython3",
   "version": "3.8.6"
  }
 },
 "nbformat": 4,
 "nbformat_minor": 4
}
