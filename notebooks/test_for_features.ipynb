{
 "cells": [
  {
   "cell_type": "code",
   "execution_count": 1,
   "metadata": {},
   "outputs": [],
   "source": [
    "from product_sub.infrastructure.dataset_builder import DatasetBuilder\n",
    "from product_sub.domain.data_cleaning import NumImputer, CatImputer\n",
    "from product_sub.domain.feature_creator import CategoricalCreatorFromNumerical, CategoricalFeatureCreator\n",
    "from product_sub.domain.feature_encoder import OneHotEncoder, FrequencyEncoder\n",
    "\n",
    "import product_sub.settings as stg\n",
    "\n",
    "import seaborn as sns\n",
    "import matplotlib.pyplot as plt\n",
    "from sklearn.model_selection import train_test_split\n",
    "from sklearn.pipeline import FeatureUnion, Pipeline,  make_pipeline, make_union\n",
    "from sklearn.preprocessing import StandardScaler, MinMaxScaler\n",
    "from sklearn.metrics import accuracy_score\n",
    "from sklearn.model_selection import StratifiedKFold, GridSearchCV\n",
    "from sklearn.metrics import classification_report\n",
    "\n",
    "from sklearn.ensemble import GradientBoostingClassifier, RandomForestClassifier\n",
    "from sklearn.compose import make_column_selector as selector\n",
    "from sklearn.compose import ColumnTransformer\n",
    "\n",
    "import numpy as np\n",
    "import pandas as pd\n",
    "\n",
    "\n",
    "RANDOM_STATE=42"
   ]
  },
  {
   "cell_type": "markdown",
   "metadata": {},
   "source": [
    "### Create Dataset"
   ]
  },
  {
   "cell_type": "code",
   "execution_count": 4,
   "metadata": {},
   "outputs": [
    {
     "data": {
      "text/plain": [
       "36"
      ]
     },
     "execution_count": 4,
     "metadata": {},
     "output_type": "execute_result"
    }
   ],
   "source": [
    "len(stg.FINAL_COLUMNS)"
   ]
  },
  {
   "cell_type": "code",
   "execution_count": 5,
   "metadata": {},
   "outputs": [],
   "source": [
    "dataset_merged = DatasetBuilder(\n",
    "    filename_bank=\"data.csv\", filename_socio=\"socio_eco.csv\"\n",
    ").create_dataset()\n",
    "X = dataset_merged.drop(columns=stg.COL_RAW_SUBSCRIPTION)\n",
    "y = dataset_merged[stg.COL_RAW_SUBSCRIPTION].values"
   ]
  },
  {
   "cell_type": "code",
   "execution_count": 6,
   "metadata": {},
   "outputs": [],
   "source": [
    "X_train, X_test, y_train, y_test = train_test_split(X, y, test_size=0.2, random_state=RANDOM_STATE)"
   ]
  },
  {
   "cell_type": "markdown",
   "metadata": {},
   "source": [
    "### Pipeline"
   ]
  },
  {
   "cell_type": "code",
   "execution_count": 7,
   "metadata": {},
   "outputs": [],
   "source": [
    "numeric_transformer = Pipeline(\n",
    "        steps=[\n",
    "            (\"num_imputer\", NumImputer()),\n",
    "            (\n",
    "                \"create_categorical\",\n",
    "                CategoricalCreatorFromNumerical(stg.DICT_TO_CREATE_COLS),\n",
    "            ),\n",
    "            (\"scaler\", MinMaxScaler()),\n",
    "        ]\n",
    "    )\n",
    "categorical_transformer = Pipeline(\n",
    "    steps=[\n",
    "        (\"cat_imputer\", CatImputer()),\n",
    "        (\"cat_creator\", CategoricalFeatureCreator()),\n",
    "        (\n",
    "            \"freq_encoder\",\n",
    "            FrequencyEncoder(stg.COLS_TO_FREQ_ENCODE),\n",
    "        ),\n",
    "        (\"one_hot_encoder\", OneHotEncoder([stg.COL_RAW_JOB])),\n",
    "    ]\n",
    ")\n",
    "# preprocessor.transformers[1][1].steps[3][1].categories_\n",
    "preprocessor = ColumnTransformer(\n",
    "    transformers=[\n",
    "        (\"num\", numeric_transformer, selector(dtype_exclude=\"category\")),\n",
    "        (\"cat\", categorical_transformer, selector(dtype_include=\"category\")),\n",
    "    ]\n",
    ")\n",
    "clf = Pipeline(steps=[ ('preprocessor' , preprocessor),\n",
    "                           ('rf',  RandomForestClassifier()) ])"
   ]
  },
  {
   "cell_type": "code",
   "execution_count": 8,
   "metadata": {},
   "outputs": [
    {
     "name": "stdout",
     "output_type": "stream",
     "text": [
      "      MONTH  WEEKDAY  is_first_campaign  nb_contact_last_campaign_inf_4  \\\n",
      "1882      5        4                  1                               0   \n",
      "8363      6        2                  1                               0   \n",
      "3286      5        3                  1                               0   \n",
      "\n",
      "      nb_contact_last_campaign_inf_8  nb_contact_last_campaign_inf_12  \\\n",
      "1882                               0                                0   \n",
      "8363                               0                                0   \n",
      "3286                               0                                0   \n",
      "\n",
      "      nb_contact_last_campaign_sup_12  \n",
      "1882                                0  \n",
      "8363                                0  \n",
      "3286                                0  \n"
     ]
    },
    {
     "data": {
      "text/plain": [
       "GridSearchCV(estimator=Pipeline(steps=[('preprocessor',\n",
       "                                        ColumnTransformer(transformers=[('num',\n",
       "                                                                         Pipeline(steps=[('num_imputer',\n",
       "                                                                                          NumImputer()),\n",
       "                                                                                         ('create_categorical',\n",
       "                                                                                          CategoricalCreatorFromNumerical(array_with_dicts_with_bounds=[{'column_dist': 'is_first_campaign',\n",
       "                                                                                                                                                         'column_source': 'NB_CONTACT_LAST_CAMPAIGN',\n",
       "                                                                                                                                                         'inf': None,\n",
       "                                                                                                                                                         'sup': 0},\n",
       "                                                                                                                                                        {'column_dist': 'nb_contact_la...\n",
       "                                                                                         ('one_hot_encoder',\n",
       "                                                                                          OneHotEncoder(feature_names=['JOB_TYPE']))]),\n",
       "                                                                         <sklearn.compose._column_transformer.make_column_selector object at 0x111bbe160>)])),\n",
       "                                       ('rf', RandomForestClassifier())]),\n",
       "             n_jobs=-1,\n",
       "             param_grid=[{'rf__criterion': ['entropy', 'gini'],\n",
       "                          'rf__max_depth': [15, 25, 27],\n",
       "                          'rf__min_samples_leaf': [40, 80, 100],\n",
       "                          'rf__min_samples_split': [3, 5, 10],\n",
       "                          'rf__n_estimators': [60, 70]}])"
      ]
     },
     "execution_count": 8,
     "metadata": {},
     "output_type": "execute_result"
    }
   ],
   "source": [
    "\n",
    "grid_params_rf = [{\n",
    "                'rf__criterion': ['entropy','gini'],\n",
    "                'rf__min_samples_leaf': [40, 80, 100],\n",
    "                'rf__max_depth': [15,25, 27],\n",
    "                'rf__min_samples_split': [3, 5, 10],\n",
    "                'rf__n_estimators' : [60, 70]\n",
    "                }]\n",
    "cv = StratifiedKFold(shuffle=True, n_splits=5, random_state=RANDOM_STATE)\n",
    "search = GridSearchCV(clf, grid_params_rf, n_jobs=-1)\n",
    "search.fit(X_train, y_train)\n"
   ]
  },
  {
   "cell_type": "code",
   "execution_count": 9,
   "metadata": {},
   "outputs": [
    {
     "data": {
      "text/plain": [
       "0.9045118644042404"
      ]
     },
     "execution_count": 9,
     "metadata": {},
     "output_type": "execute_result"
    }
   ],
   "source": [
    "search.best_score_"
   ]
  },
  {
   "cell_type": "code",
   "execution_count": 10,
   "metadata": {},
   "outputs": [
    {
     "name": "stdout",
     "output_type": "stream",
     "text": [
      "       MONTH  WEEKDAY  is_first_campaign  nb_contact_last_campaign_inf_4  \\\n",
      "4215       5        1                  1                               0   \n",
      "30490      4        2                  1                               0   \n",
      "8374       6        2                  1                               0   \n",
      "\n",
      "       nb_contact_last_campaign_inf_8  nb_contact_last_campaign_inf_12  \\\n",
      "4215                                0                                0   \n",
      "30490                               0                                0   \n",
      "8374                                0                                0   \n",
      "\n",
      "       nb_contact_last_campaign_sup_12  \n",
      "4215                                 0  \n",
      "30490                                0  \n",
      "8374                                 0  \n"
     ]
    },
    {
     "data": {
      "text/plain": [
       "0.9000692360950843"
      ]
     },
     "execution_count": 10,
     "metadata": {},
     "output_type": "execute_result"
    }
   ],
   "source": [
    "search.score(X_test, y_test)"
   ]
  },
  {
   "cell_type": "code",
   "execution_count": 11,
   "metadata": {},
   "outputs": [
    {
     "data": {
      "text/plain": [
       "{'rf__criterion': 'gini',\n",
       " 'rf__max_depth': 27,\n",
       " 'rf__min_samples_leaf': 40,\n",
       " 'rf__min_samples_split': 10,\n",
       " 'rf__n_estimators': 70}"
      ]
     },
     "execution_count": 11,
     "metadata": {},
     "output_type": "execute_result"
    }
   ],
   "source": [
    "search.best_params_"
   ]
  },
  {
   "cell_type": "code",
   "execution_count": 12,
   "metadata": {},
   "outputs": [
    {
     "name": "stdout",
     "output_type": "stream",
     "text": [
      "      MONTH  WEEKDAY  is_first_campaign  nb_contact_last_campaign_inf_4  \\\n",
      "1882      5        4                  1                               0   \n",
      "8363      6        2                  1                               0   \n",
      "3286      5        3                  1                               0   \n",
      "\n",
      "      nb_contact_last_campaign_inf_8  nb_contact_last_campaign_inf_12  \\\n",
      "1882                               0                                0   \n",
      "8363                               0                                0   \n",
      "3286                               0                                0   \n",
      "\n",
      "      nb_contact_last_campaign_sup_12  \n",
      "1882                                0  \n",
      "8363                                0  \n",
      "3286                                0  \n"
     ]
    }
   ],
   "source": [
    "clf = Pipeline(steps=[ ('preprocessor' , preprocessor),\n",
    "                           ('rf',  RandomForestClassifier(criterion='gini', max_depth=27, min_samples_leaf=40, min_samples_split=10, n_estimators=70)) ])\n",
    "rdf = clf.fit(X_train, y_train)"
   ]
  },
  {
   "cell_type": "code",
   "execution_count": 13,
   "metadata": {},
   "outputs": [
    {
     "data": {
      "text/plain": [
       "(36,)"
      ]
     },
     "execution_count": 13,
     "metadata": {},
     "output_type": "execute_result"
    }
   ],
   "source": [
    "rdf[1].feature_importances_.shape"
   ]
  },
  {
   "cell_type": "code",
   "execution_count": 14,
   "metadata": {},
   "outputs": [],
   "source": [
    "def plot_feature_importance(importance,names,model_type):\n",
    "\n",
    "    #Create arrays from feature importance and feature names\n",
    "    feature_importance = np.array(importance)\n",
    "    feature_names = np.array(names)\n",
    "\n",
    "    #Create a DataFrame using a Dictionary\n",
    "    data={'feature_names':feature_names,'feature_importance':feature_importance}\n",
    "    fi_df = pd.DataFrame(data)\n",
    "\n",
    "    #Sort the DataFrame in order decreasing feature importance\n",
    "    fi_df.sort_values(by=['feature_importance'], ascending=False,inplace=True)\n",
    "\n",
    "    #Define size of bar plot\n",
    "    plt.figure(figsize=(10,8))\n",
    "    #Plot Searborn bar chart\n",
    "    sns.barplot(x=fi_df['feature_importance'], y=fi_df['feature_names'])\n",
    "    #Add chart labels\n",
    "    plt.title(model_type + 'FEATURE IMPORTANCE')\n",
    "    plt.xlabel('FEATURE IMPORTANCE')\n",
    "    plt.ylabel('FEATURE NAMES')"
   ]
  },
  {
   "cell_type": "code",
   "execution_count": 16,
   "metadata": {},
   "outputs": [],
   "source": [
    "FINAL_COLUMNS = [\n",
    "    stg.COL_RAW_AGE,\n",
    "    stg.COL_RAW_HAS_DEFAULT,\n",
    "    stg.COL_RAW_BALANCE,\n",
    "    stg.COL_RAW_HAS_HOUSING_LOAN,\n",
    "    stg.COL_RAW_HAS_PERSO_LOAN,\n",
    "    stg.COL_RAW_DURATION_CONTACT,\n",
    "    stg.COL_RAW_NB_CONTACT,\n",
    "    stg.COL_RAW_NB_DAY_LAST_CONTACT,\n",
    "    stg.COL_RAW_NB_CONTACT_LAST_CAMPAIGN,\n",
    "    stg.COL_RAW_EMPL_VAR_RATE,\n",
    "    stg.COL_RAW_IDX_CSMR_PRICE,\n",
    "    stg.COL_RAW_IDX_CSMR_CONFIDENCE,\n",
    "    stg.COL_MONTH,\n",
    "    stg.COL_WEEKDAY,\n",
    "    \"is_first_campaign\",\n",
    "    \"nb_contact_last_campaign_inf_4\",\n",
    "    \"nb_contact_last_campaign_inf_8\",\n",
    "    \"nb_contact_last_campaign_inf_12\",\n",
    "    \"nb_contact_last_campaign_sup_12\",\n",
    "    stg.COL_RAW_STATUS,\n",
    "    stg.COL_RAW_EDUCATION,\n",
    "    stg.COL_RAW_CONTACT,\n",
    "    \"is_last_campaign_success\",\n",
    "    \"is_last_campaign_fail\",\n",
    "    \"Admin\",\n",
    "    \"Chomeur\",\n",
    "    \"Col bleu\",\n",
    "    \"Employe de menage\",\n",
    "    \"Entrepreneur\",\n",
    "    \"Etudiant\",\n",
    "    \"Independant\",\n",
    "    \"Manager\",\n",
    "    \"Retraite\",\n",
    "    \"Services\",\n",
    "    \"Technicien\",\n",
    "    \"Autre\",\n",
    "]"
   ]
  },
  {
   "cell_type": "code",
   "execution_count": 17,
   "metadata": {},
   "outputs": [
    {
     "data": {
      "image/png": "[encoded data removed]",
      "text/plain": [
       "<Figure size 720x576 with 1 Axes>"
      ]
     },
     "metadata": {
      "needs_background": "light"
     },
     "output_type": "display_data"
    }
   ],
   "source": [
    "plot_feature_importance(rdf[1].feature_importances_,FINAL_COLUMNS,'RANDOM FOREST')"
   ]
  },
  {
   "cell_type": "code",
   "execution_count": null,
   "metadata": {},
   "outputs": [],
   "source": []
  }
 ],
 "metadata": {
  "kernelspec": {
   "display_name": "env_project_1",
   "language": "python",
   "name": "env_project_1"
  },
  "language_info": {
   "codemirror_mode": {
    "name": "ipython",
    "version": 3
   },
   "file_extension": ".py",
   "mimetype": "text/x-python",
   "name": "python",
   "nbconvert_exporter": "python",
   "pygments_lexer": "ipython3",
   "version": "3.8.6"
  }
 },
 "nbformat": 4,
 "nbformat_minor": 4
}
