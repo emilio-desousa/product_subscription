{
 "cells": [
  {
   "cell_type": "markdown",
   "metadata": {},
   "source": [
    "## Import des packages"
   ]
  },
  {
   "cell_type": "code",
   "execution_count": 1,
   "metadata": {},
   "outputs": [],
   "source": [
    "from product_sub.infrastructure.dataset_builder import DatasetBuilder\n",
    "from product_sub.domain.pipeline_creator import PipelineCreator\n",
    "import product_sub.settings as stg\n",
    "\n",
    "from sklearn.pipeline import Pipeline\n",
    "from sklearn.model_selection import train_test_split\n",
    "\n",
    "from sklearn.linear_model import LogisticRegression\n",
    "from sklearn.ensemble import RandomForestClassifier\n",
    "from sklearn.model_selection import StratifiedKFold, GridSearchCV\n",
    "from sklearn.metrics import auc, accuracy_score, confusion_matrix, mean_squared_error, plot_confusion_matrix\n",
    "from sklearn.metrics import classification_report\n",
    "\n",
    "from sklearn.svm import SVC\n",
    "\n",
    "\n",
    "from imblearn.over_sampling import SMOTE \n",
    "from imblearn.combine import SMOTEENN\n",
    "from imblearn.under_sampling import NearMiss\n",
    "\n",
    "import pandas as pd\n",
    "import numpy as np\n",
    "\n",
    "import matplotlib.pyplot as plt\n",
    "import seaborn as sns\n"
   ]
  },
  {
   "cell_type": "markdown",
   "metadata": {},
   "source": [
    "## Import des données et pipelines"
   ]
  },
  {
   "cell_type": "code",
   "execution_count": null,
   "metadata": {},
   "outputs": [],
   "source": []
  },
  {
   "cell_type": "code",
   "execution_count": 2,
   "metadata": {},
   "outputs": [
    {
     "name": "stdout",
     "output_type": "stream",
     "text": [
      "        AGE  HAS_DEFAULT  BALANCE  HAS_HOUSING_LOAN  HAS_PERSO_LOAN  \\\n",
      "2053   45.0            0      101                 1             0.0   \n",
      "29618  28.0            0     3026                 0             0.0   \n",
      "31449  36.0            0     9324                 1             0.0   \n",
      "20076  32.0            0      727                 0             0.0   \n",
      "43441  33.0            0      658                 1             0.0   \n",
      "...     ...          ...      ...               ...             ...   \n",
      "11284  44.0            0     1059                 0             0.0   \n",
      "44732  23.0            0      508                 0             0.0   \n",
      "38158  34.0            0     1317                 1             0.0   \n",
      "860    33.0            0      165                 0             0.0   \n",
      "15795  38.0            0      -41                 1             0.0   \n",
      "\n",
      "       DURATION_CONTACT  NB_CONTACT  NB_DAY_LAST_CONTACT  \\\n",
      "2053                460           5                   -1   \n",
      "29618               124           1                   -1   \n",
      "31449               138           8                   -1   \n",
      "20076                68           4                   -1   \n",
      "43441                93           1                  173   \n",
      "...                 ...         ...                  ...   \n",
      "11284              2093           1                   -1   \n",
      "44732               210           1                   92   \n",
      "38158               239           1                   -1   \n",
      "860                 111           1                   -1   \n",
      "15795                68          10                   -1   \n",
      "\n",
      "       EMPLOYMENT_VARIATION_RATE  IDX_CONSUMER_PRICE  IDX_CONSUMER_CONFIDENCE  \\\n",
      "2053                         1.1              93.994                    -36.4   \n",
      "29618                       -0.2                 NaN                      NaN   \n",
      "31449                       -1.8              92.843                    -50.0   \n",
      "20076                        1.4              93.444                    -36.1   \n",
      "43441                       -1.8              93.749                    -34.6   \n",
      "...                          ...                 ...                      ...   \n",
      "11284                        1.4              94.465                    -41.8   \n",
      "44732                       -1.1              94.199                    -37.5   \n",
      "38158                       -1.8              92.893                    -46.2   \n",
      "860                          1.1              93.994                    -36.4   \n",
      "15795                        1.4              93.918                    -42.7   \n",
      "\n",
      "       MONTH  WEEKDAY  is_first_campaign  nb_contact_last_campaign_inf_4  \\\n",
      "2053       5        0                  1                               0   \n",
      "29618      2        1                  1                               0   \n",
      "31449      3        0                  1                               0   \n",
      "20076      8        0                  1                               0   \n",
      "43441      4        0                  0                               1   \n",
      "...      ...      ...                ...                             ...   \n",
      "11284      6        2                  1                               0   \n",
      "44732      9        2                  0                               1   \n",
      "38158      5        4                  1                               0   \n",
      "860        5        2                  1                               0   \n",
      "15795      7        0                  1                               0   \n",
      "\n",
      "       nb_contact_last_campaign_inf_8  nb_contact_last_campaign_inf_12  \\\n",
      "2053                                0                                0   \n",
      "29618                               0                                0   \n",
      "31449                               0                                0   \n",
      "20076                               0                                0   \n",
      "43441                               0                                0   \n",
      "...                               ...                              ...   \n",
      "11284                               0                                0   \n",
      "44732                               0                                0   \n",
      "38158                               0                                0   \n",
      "860                                 0                                0   \n",
      "15795                               0                                0   \n",
      "\n",
      "       nb_contact_last_campaign_sup_12  \n",
      "2053                                 0  \n",
      "29618                                0  \n",
      "31449                                0  \n",
      "20076                                0  \n",
      "43441                                0  \n",
      "...                                ...  \n",
      "11284                                0  \n",
      "44732                                0  \n",
      "38158                                0  \n",
      "860                                  0  \n",
      "15795                                0  \n",
      "\n",
      "[36108 rows x 18 columns]\n",
      "        AGE  HAS_DEFAULT  BALANCE  HAS_HOUSING_LOAN  HAS_PERSO_LOAN  \\\n",
      "26995  30.0            0     4642                 1             0.0   \n",
      "17366  31.0            1       20                 1             0.0   \n",
      "25076  38.0            0     3234                 0             0.0   \n",
      "18275  41.0            0     1138                 0             0.0   \n",
      "429    40.0            0      217                 1             0.0   \n",
      "...     ...          ...      ...               ...             ...   \n",
      "33846  77.0            0     1208                 0             0.0   \n",
      "5231   33.0            0      884                 1             0.0   \n",
      "27678  37.0            0        0                 1             0.0   \n",
      "83     59.0            0     2343                 1             0.0   \n",
      "31803  27.0            0      128                 0             0.0   \n",
      "\n",
      "       DURATION_CONTACT  NB_CONTACT  NB_DAY_LAST_CONTACT  \\\n",
      "26995               528           1                   -1   \n",
      "17366               141           5                   -1   \n",
      "25076               578           2                   -1   \n",
      "18275               283          18                   -1   \n",
      "429                 195           1                   -1   \n",
      "...                 ...         ...                  ...   \n",
      "33846                72           4                   -1   \n",
      "5231                271           1                   -1   \n",
      "27678                11           3                  175   \n",
      "83                 1042           1                   -1   \n",
      "31803                83           1                   -1   \n",
      "\n",
      "       EMPLOYMENT_VARIATION_RATE  IDX_CONSUMER_PRICE  IDX_CONSUMER_CONFIDENCE  \\\n",
      "26995                       -0.1              93.200                    -42.0   \n",
      "17366                        1.4              93.918                    -42.7   \n",
      "25076                       -0.1              93.200                    -42.0   \n",
      "18275                        1.4              93.918                    -42.7   \n",
      "429                          1.1              93.994                    -36.4   \n",
      "...                          ...                 ...                      ...   \n",
      "33846                       -1.8              93.075                    -47.1   \n",
      "5231                         1.1              93.994                    -36.4   \n",
      "27678                       -0.1              93.200                    -42.0   \n",
      "83                           1.1              93.994                    -36.4   \n",
      "31803                       -1.8              93.075                    -47.1   \n",
      "\n",
      "       MONTH  WEEKDAY  is_first_campaign  nb_contact_last_campaign_inf_4  \\\n",
      "26995     11        4                  1                               0   \n",
      "17366      7        0                  1                               0   \n",
      "25076     11        1                  1                               0   \n",
      "18275      7        3                  1                               0   \n",
      "429        5        1                  1                               0   \n",
      "...      ...      ...                ...                             ...   \n",
      "33846      4        1                  1                               0   \n",
      "5231       5        4                  1                               0   \n",
      "27678     11        4                  0                               1   \n",
      "83         5        0                  1                               0   \n",
      "31803      4        2                  1                               0   \n",
      "\n",
      "       nb_contact_last_campaign_inf_8  nb_contact_last_campaign_inf_12  \\\n",
      "26995                               0                                0   \n",
      "17366                               0                                0   \n",
      "25076                               0                                0   \n",
      "18275                               0                                0   \n",
      "429                                 0                                0   \n",
      "...                               ...                              ...   \n",
      "33846                               0                                0   \n",
      "5231                                0                                0   \n",
      "27678                               0                                0   \n",
      "83                                  0                                0   \n",
      "31803                               0                                0   \n",
      "\n",
      "       nb_contact_last_campaign_sup_12  \n",
      "26995                                0  \n",
      "17366                                0  \n",
      "25076                                0  \n",
      "18275                                0  \n",
      "429                                  0  \n",
      "...                                ...  \n",
      "33846                                0  \n",
      "5231                                 0  \n",
      "27678                                0  \n",
      "83                                   0  \n",
      "31803                                0  \n",
      "\n",
      "[9028 rows x 18 columns]\n"
     ]
    }
   ],
   "source": [
    "dataset_merged = DatasetBuilder(\n",
    "    filename_bank=stg.FILENAME_BANK, filename_socio=stg.FILENAME_SOCIO_ECO\n",
    ").create_dataset()\n",
    "X = dataset_merged.drop(columns=stg.COL_RAW_SUBSCRIPTION)\n",
    "y = dataset_merged[stg.COL_RAW_SUBSCRIPTION].values\n",
    "\n",
    "X_train, X_test, y_train, y_test = train_test_split(\n",
    "    X, y, test_size=0.2, random_state=stg.RANDOM_STATE\n",
    ")\n",
    "\n",
    "custom_pipeline_accessor = PipelineCreator()\n",
    "preprocessor = custom_pipeline_accessor.preprocessor\n",
    "\n",
    "clf = Pipeline(steps=[ ('preprocessor' , preprocessor),\n",
    "                           ('rf',  RandomForestClassifier()) ])\n",
    "rf = RandomForestClassifier()\n",
    "X_train = preprocessor.fit_transform(X_train)\n",
    "X_test = preprocessor.transform(X_test)"
   ]
  },
  {
   "cell_type": "markdown",
   "metadata": {},
   "source": [
    "## OverSampling"
   ]
  },
  {
   "cell_type": "code",
   "execution_count": 7,
   "metadata": {},
   "outputs": [],
   "source": [
    "smt = SMOTE(sampling_strategy=0.4,random_state=stg.RANDOM_STATE)\n",
    "#X_train, y_train = smt.fit_resample(X_train,y_train)"
   ]
  },
  {
   "cell_type": "code",
   "execution_count": 5,
   "metadata": {},
   "outputs": [],
   "source": [
    "smote_enn = SMOTEENN(random_state=stg.RANDOM_STATE)\n",
    "X_resampled, y_resampled = smote_enn.fit_resample(X_train, y_train)"
   ]
  },
  {
   "cell_type": "code",
   "execution_count": 4,
   "metadata": {},
   "outputs": [],
   "source": [
    "smote_nm = NearMiss(sampling_strategy=1)\n",
    "X_resampled, y_resampled = smote_nm.fit_resample(X_train, y_train)"
   ]
  },
  {
   "cell_type": "code",
   "execution_count": 5,
   "metadata": {},
   "outputs": [
    {
     "data": {
      "text/plain": [
       "array([1, 0, 0, ..., 0, 0, 0])"
      ]
     },
     "execution_count": 5,
     "metadata": {},
     "output_type": "execute_result"
    }
   ],
   "source": [
    "grid_params_rf = [{\n",
    "                'criterion': ['entropy','gini'],\n",
    "                'min_samples_leaf': [40,60, 80],\n",
    "                'max_depth': [15,25,30],\n",
    "                'min_samples_split': [3, 5, 10],\n",
    "                'n_estimators' : [60, 70]\n",
    "                }]\n",
    "cv = StratifiedKFold(shuffle=True, n_splits=5, random_state=stg.RANDOM_STATE)\n",
    "search = GridSearchCV(rf, grid_params_rf, n_jobs=-1, refit=True)\n",
    "search.fit(X_resampled, y_resampled)\n",
    "y_train"
   ]
  },
  {
   "cell_type": "code",
   "execution_count": 6,
   "metadata": {},
   "outputs": [
    {
     "data": {
      "text/plain": [
       "{'criterion': 'entropy',\n",
       " 'max_depth': 15,\n",
       " 'min_samples_leaf': 40,\n",
       " 'min_samples_split': 10,\n",
       " 'n_estimators': 60}"
      ]
     },
     "execution_count": 6,
     "metadata": {},
     "output_type": "execute_result"
    }
   ],
   "source": [
    "search.best_params_"
   ]
  },
  {
   "cell_type": "markdown",
   "metadata": {},
   "source": [
    "## Exemple under & over avec SMOTEEIN"
   ]
  },
  {
   "cell_type": "code",
   "execution_count": null,
   "metadata": {},
   "outputs": [],
   "source": []
  },
  {
   "cell_type": "code",
   "execution_count": null,
   "metadata": {},
   "outputs": [],
   "source": [
    "##WITH SMOTE\n",
    "\n",
    "#good_rf = RandomForestClassifier(criterion=\"entropy\", max_depth=15, min_samples_leaf=40, min_samples_split=3, n_estimators=60)\n",
    "#good_rf.fit(X_train, y_train)\n",
    "\n",
    "##WITHOUT SMOTE\n",
    "good_rf = RandomForestClassifier(criterion='entropy', max_depth=25, min_samples_leaf=40, min_samples_split=3, n_estimators=60)\n",
    "good_rf.fit(X_train, y_train)"
   ]
  },
  {
   "cell_type": "code",
   "execution_count": 7,
   "metadata": {},
   "outputs": [
    {
     "data": {
      "text/plain": [
       "RandomForestClassifier(criterion='entropy', max_depth=15, min_samples_leaf=40,\n",
       "                       min_samples_split=10, n_estimators=60)"
      ]
     },
     "execution_count": 7,
     "metadata": {},
     "output_type": "execute_result"
    }
   ],
   "source": [
    "# WITH UNDER&OVER\n",
    "good_rf = RandomForestClassifier(criterion='entropy', max_depth=15, min_samples_leaf=40, min_samples_split=10, n_estimators=60)\n",
    "good_rf.fit(X_resampled, y_resampled)"
   ]
  },
  {
   "cell_type": "code",
   "execution_count": 8,
   "metadata": {},
   "outputs": [
    {
     "data": {
      "text/plain": [
       "<sklearn.metrics._plot.confusion_matrix.ConfusionMatrixDisplay at 0x7f88f5f93c70>"
      ]
     },
     "execution_count": 8,
     "metadata": {},
     "output_type": "execute_result"
    },
    {
     "data": {
      "image/png": "[encoded data removed]",
      "text/plain": [
       "<Figure size 432x288 with 2 Axes>"
      ]
     },
     "metadata": {
      "needs_background": "light"
     },
     "output_type": "display_data"
    }
   ],
   "source": [
    "plot_confusion_matrix(good_rf,X_test, y_test)"
   ]
  },
  {
   "cell_type": "markdown",
   "metadata": {},
   "source": [
    "# SVM"
   ]
  },
  {
   "cell_type": "code",
   "execution_count": 9,
   "metadata": {},
   "outputs": [
    {
     "data": {
      "text/plain": [
       "GridSearchCV(cv=2, estimator=SVC(random_state=42), n_jobs=-1,\n",
       "             param_grid=[{'C': [0.1, 1, 10], 'kernel': ['linear']}],\n",
       "             scoring='recall')"
      ]
     },
     "execution_count": 9,
     "metadata": {},
     "output_type": "execute_result"
    }
   ],
   "source": [
    "r=[0.1,1,10]\n",
    "pg_svm=[{'C':r, 'kernel':['linear']}]\n",
    "#        {'C':r, 'gamma':r, 'kernel':['rbf']}]\n",
    "svm = SVC(random_state=stg.RANDOM_STATE)\n",
    "\n",
    "cv = StratifiedKFold(shuffle=True, n_splits=5, random_state=stg.RANDOM_STATE)\n",
    "gs_svm=GridSearchCV(estimator= svm,\n",
    "               param_grid= pg_svm,\n",
    "               scoring='recall',\n",
    "                refit=True,\n",
    "                n_jobs=-1,\n",
    "               cv=2)\n",
    "gs_svm.fit(X_resampled, y_resampled)"
   ]
  },
  {
   "cell_type": "code",
   "execution_count": 10,
   "metadata": {},
   "outputs": [
    {
     "name": "stdout",
     "output_type": "stream",
     "text": [
      "              precision    recall  f1-score   support\n",
      "\n",
      "           0       0.96      0.66      0.78      7961\n",
      "           1       0.24      0.78      0.36      1067\n",
      "\n",
      "    accuracy                           0.68      9028\n",
      "   macro avg       0.60      0.72      0.57      9028\n",
      "weighted avg       0.87      0.68      0.73      9028\n",
      "\n"
     ]
    }
   ],
   "source": [
    "y_true, y_pred = y_test, gs_svm.predict(X_test)\n",
    "print(classification_report(y_true, y_pred))"
   ]
  },
  {
   "cell_type": "code",
   "execution_count": 11,
   "metadata": {},
   "outputs": [
    {
     "name": "stdout",
     "output_type": "stream",
     "text": [
      "              precision    recall  f1-score   support\n",
      "\n",
      "           0       0.96      0.66      0.78      7961\n",
      "           1       0.24      0.78      0.36      1067\n",
      "\n",
      "    accuracy                           0.68      9028\n",
      "   macro avg       0.60      0.72      0.57      9028\n",
      "weighted avg       0.87      0.68      0.73      9028\n",
      "\n"
     ]
    }
   ],
   "source": [
    "y_true, y_pred = y_test, gs_svm.predict(X_test)\n",
    "print(classification_report(y_true, y_pred))"
   ]
  },
  {
   "cell_type": "code",
   "execution_count": 12,
   "metadata": {},
   "outputs": [
    {
     "data": {
      "text/plain": [
       "<sklearn.metrics._plot.confusion_matrix.ConfusionMatrixDisplay at 0x7f88bb83fb50>"
      ]
     },
     "execution_count": 12,
     "metadata": {},
     "output_type": "execute_result"
    },
    {
     "data": {
      "image/png": "[encoded data removed]",
      "text/plain": [
       "<Figure size 432x288 with 2 Axes>"
      ]
     },
     "metadata": {
      "needs_background": "light"
     },
     "output_type": "display_data"
    }
   ],
   "source": [
    "plot_confusion_matrix(gs_svm,X_test, y_test)"
   ]
  },
  {
   "cell_type": "markdown",
   "metadata": {},
   "source": [
    "#### SVM Gaussian kernel"
   ]
  },
  {
   "cell_type": "code",
   "execution_count": 13,
   "metadata": {},
   "outputs": [],
   "source": [
    "svm = SVC(kernel='rbf')\n",
    "svm_rbf = svm.fit(X_train, y_train)"
   ]
  },
  {
   "cell_type": "code",
   "execution_count": 14,
   "metadata": {},
   "outputs": [
    {
     "name": "stdout",
     "output_type": "stream",
     "text": [
      "              precision    recall  f1-score   support\n",
      "\n",
      "           0       0.92      0.98      0.95      7961\n",
      "           1       0.69      0.39      0.50      1067\n",
      "\n",
      "    accuracy                           0.91      9028\n",
      "   macro avg       0.80      0.68      0.72      9028\n",
      "weighted avg       0.90      0.91      0.90      9028\n",
      "\n"
     ]
    }
   ],
   "source": [
    "y_true, y_pred = y_test, svm_rbf.predict(X_test)\n",
    "print(classification_report(y_true, y_pred))"
   ]
  },
  {
   "cell_type": "markdown",
   "metadata": {},
   "source": [
    "# RANDOM FOREST"
   ]
  },
  {
   "cell_type": "code",
   "execution_count": 15,
   "metadata": {},
   "outputs": [
    {
     "name": "stdout",
     "output_type": "stream",
     "text": [
      "              precision    recall  f1-score   support\n",
      "\n",
      "           0       0.96      0.65      0.78      7961\n",
      "           1       0.24      0.82      0.37      1067\n",
      "\n",
      "    accuracy                           0.67      9028\n",
      "   macro avg       0.60      0.74      0.58      9028\n",
      "weighted avg       0.88      0.67      0.73      9028\n",
      "\n"
     ]
    }
   ],
   "source": [
    "y_true, y_pred = y_test, search.predict(X_test)\n",
    "print(classification_report(y_true, y_pred))"
   ]
  },
  {
   "cell_type": "code",
   "execution_count": null,
   "metadata": {},
   "outputs": [],
   "source": []
  },
  {
   "cell_type": "markdown",
   "metadata": {},
   "source": [
    "# LOGREG"
   ]
  },
  {
   "cell_type": "code",
   "execution_count": 16,
   "metadata": {},
   "outputs": [
    {
     "name": "stderr",
     "output_type": "stream",
     "text": [
      "/home/emilio/.cache/pypoetry/virtualenvs/productsubscription-eds-dm-8u1ePI5K-py3.8/lib/python3.8/site-packages/sklearn/linear_model/_logistic.py:762: ConvergenceWarning: lbfgs failed to converge (status=1):\n",
      "STOP: TOTAL NO. of ITERATIONS REACHED LIMIT.\n",
      "\n",
      "Increase the number of iterations (max_iter) or scale the data as shown in:\n",
      "    https://scikit-learn.org/stable/modules/preprocessing.html\n",
      "Please also refer to the documentation for alternative solver options:\n",
      "    https://scikit-learn.org/stable/modules/linear_model.html#logistic-regression\n",
      "  n_iter_i = _check_optimize_result(\n"
     ]
    },
    {
     "data": {
      "text/plain": [
       "GridSearchCV(cv=StratifiedKFold(n_splits=5, random_state=42, shuffle=True),\n",
       "             estimator=LogisticRegression(), n_jobs=-1,\n",
       "             param_grid={'C': array([1.e-03, 1.e-02, 1.e-01, 1.e+00, 1.e+01, 1.e+02, 1.e+03]),\n",
       "                         'penalty': ['l1', 'l2']},\n",
       "             scoring='recall')"
      ]
     },
     "execution_count": 16,
     "metadata": {},
     "output_type": "execute_result"
    }
   ],
   "source": [
    "grid={\"C\":np.logspace(-3,3,7), \"penalty\":[\"l1\",\"l2\"]}\n",
    "log_reg = LogisticRegression()\n",
    "cv = StratifiedKFold(shuffle=True, n_splits=5, random_state=stg.RANDOM_STATE)\n",
    "logreg_cv=GridSearchCV(estimator= log_reg,\n",
    "               param_grid= grid,\n",
    "               scoring='recall',\n",
    "                refit=True,\n",
    "                n_jobs=-1,\n",
    "               cv=cv)\n",
    "logreg_cv.fit(X_resampled, y_resampled)"
   ]
  },
  {
   "cell_type": "code",
   "execution_count": 17,
   "metadata": {},
   "outputs": [
    {
     "name": "stdout",
     "output_type": "stream",
     "text": [
      "              precision    recall  f1-score   support\n",
      "\n",
      "           0       0.96      0.67      0.79      7961\n",
      "           1       0.24      0.79      0.37      1067\n",
      "\n",
      "    accuracy                           0.69      9028\n",
      "   macro avg       0.60      0.73      0.58      9028\n",
      "weighted avg       0.87      0.69      0.74      9028\n",
      "\n"
     ]
    }
   ],
   "source": [
    "y_true, y_pred = y_test, logreg_cv.predict(X_test)\n",
    "print(classification_report(y_true, y_pred))"
   ]
  },
  {
   "cell_type": "code",
   "execution_count": 18,
   "metadata": {},
   "outputs": [
    {
     "data": {
      "text/plain": [
       "<sklearn.metrics._plot.confusion_matrix.ConfusionMatrixDisplay at 0x7f890d64a610>"
      ]
     },
     "execution_count": 18,
     "metadata": {},
     "output_type": "execute_result"
    },
    {
     "data": {
      "image/png": "[encoded data removed]",
      "text/plain": [
       "<Figure size 432x288 with 2 Axes>"
      ]
     },
     "metadata": {
      "needs_background": "light"
     },
     "output_type": "display_data"
    }
   ],
   "source": [
    "plot_confusion_matrix(logreg_cv,X_test, y_test)"
   ]
  },
  {
   "cell_type": "code",
   "execution_count": null,
   "metadata": {},
   "outputs": [],
   "source": []
  },
  {
   "cell_type": "markdown",
   "metadata": {},
   "source": [
    "# GRADIENT BOOSTING"
   ]
  },
  {
   "cell_type": "code",
   "execution_count": 19,
   "metadata": {},
   "outputs": [
    {
     "name": "stdout",
     "output_type": "stream",
     "text": [
      "Fitting 3 folds for each of 24 candidates, totalling 72 fits\n"
     ]
    },
    {
     "name": "stderr",
     "output_type": "stream",
     "text": [
      "[Parallel(n_jobs=-1)]: Using backend LokyBackend with 6 concurrent workers.\n",
      "[Parallel(n_jobs=-1)]: Done  72 out of  72 | elapsed:    0.6s finished\n"
     ]
    },
    {
     "data": {
      "text/plain": [
       "GridSearchCV(cv=StratifiedKFold(n_splits=3, random_state=42, shuffle=True),\n",
       "             estimator=GradientBoostingClassifier(), n_jobs=-1,\n",
       "             param_grid={'criterion': ['friedman_mse'],\n",
       "                         'learning_rate': [0.2, 0.15], 'loss': ['deviance'],\n",
       "                         'max_depth': [3, 5, 8],\n",
       "                         'min_samples_leaf': array([0.1, 0.5]),\n",
       "                         'min_samples_split': array([0.1, 0.5]),\n",
       "                         'n_estimators': [10], 'subsample': [1]},\n",
       "             verbose=True)"
      ]
     },
     "execution_count": 19,
     "metadata": {},
     "output_type": "execute_result"
    }
   ],
   "source": [
    "from sklearn.ensemble import GradientBoostingClassifier\n",
    "grid = {\n",
    "    \"loss\":[\"deviance\"],\n",
    "    \"learning_rate\": [0.2, 0.15],\n",
    "    \"min_samples_split\": np.linspace(0.1, 0.5, 2),\n",
    "    \"min_samples_leaf\": np.linspace(0.1, 0.5, 2),\n",
    "    \"max_depth\":[3,5,8 ],\n",
    "    \"criterion\": [\"friedman_mse\"],\n",
    "    \"subsample\":[1],\n",
    "    \"n_estimators\":[10]\n",
    "    }\n",
    "gbc = GradientBoostingClassifier()\n",
    "cv = StratifiedKFold(shuffle=True, n_splits=3, random_state=stg.RANDOM_STATE)\n",
    "gboost_cv=GridSearchCV(estimator= gbc,\n",
    "               param_grid= grid,\n",
    "                refit=True,\n",
    "                n_jobs=-1,\n",
    "               cv=cv, verbose=True)\n",
    "gboost_cv.fit(X_resampled, y_resampled)"
   ]
  },
  {
   "cell_type": "code",
   "execution_count": 20,
   "metadata": {},
   "outputs": [
    {
     "data": {
      "text/plain": [
       "{'criterion': 'friedman_mse',\n",
       " 'learning_rate': 0.2,\n",
       " 'loss': 'deviance',\n",
       " 'max_depth': 5,\n",
       " 'min_samples_leaf': 0.1,\n",
       " 'min_samples_split': 0.1,\n",
       " 'n_estimators': 10,\n",
       " 'subsample': 1}"
      ]
     },
     "execution_count": 20,
     "metadata": {},
     "output_type": "execute_result"
    }
   ],
   "source": [
    "gboost_cv.best_params_\n"
   ]
  },
  {
   "cell_type": "code",
   "execution_count": 21,
   "metadata": {},
   "outputs": [
    {
     "name": "stdout",
     "output_type": "stream",
     "text": [
      "              precision    recall  f1-score   support\n",
      "\n",
      "           0       0.97      0.74      0.84      7961\n",
      "           1       0.29      0.81      0.43      1067\n",
      "\n",
      "    accuracy                           0.75      9028\n",
      "   macro avg       0.63      0.78      0.64      9028\n",
      "weighted avg       0.89      0.75      0.79      9028\n",
      "\n"
     ]
    }
   ],
   "source": [
    "y_true, y_pred = y_test, gboost_cv.predict(X_test)\n",
    "print(classification_report(y_true, y_pred))"
   ]
  },
  {
   "cell_type": "code",
   "execution_count": 22,
   "metadata": {},
   "outputs": [
    {
     "data": {
      "text/plain": [
       "<sklearn.metrics._plot.confusion_matrix.ConfusionMatrixDisplay at 0x7f88f5e27790>"
      ]
     },
     "execution_count": 22,
     "metadata": {},
     "output_type": "execute_result"
    },
    {
     "data": {
      "image/png": "[encoded data removed]",
      "text/plain": [
       "<Figure size 432x288 with 2 Axes>"
      ]
     },
     "metadata": {
      "needs_background": "light"
     },
     "output_type": "display_data"
    }
   ],
   "source": [
    "plot_confusion_matrix(gboost_cv,X_test, y_test)"
   ]
  },
  {
   "cell_type": "code",
   "execution_count": 45,
   "metadata": {},
   "outputs": [
    {
     "data": {
      "text/plain": [
       "<sklearn.metrics._plot.confusion_matrix.ConfusionMatrixDisplay at 0x7fe31bc86970>"
      ]
     },
     "execution_count": 45,
     "metadata": {},
     "output_type": "execute_result"
    },
    {
     "data": {
      "image/png": "[encoded data removed]",
      "text/plain": [
       "<Figure size 432x288 with 2 Axes>"
      ]
     },
     "metadata": {
      "needs_background": "light"
     },
     "output_type": "display_data"
    }
   ],
   "source": [
    "plot_confusion_matrix(gboost_cv,X_test, y_test)"
   ]
  },
  {
   "cell_type": "code",
   "execution_count": 49,
   "metadata": {},
   "outputs": [
    {
     "data": {
      "text/plain": [
       "<sklearn.metrics._plot.confusion_matrix.ConfusionMatrixDisplay at 0x7fe31bc399d0>"
      ]
     },
     "execution_count": 49,
     "metadata": {},
     "output_type": "execute_result"
    },
    {
     "data": {
      "image/png": "[encoded data removed]",
      "text/plain": [
       "<Figure size 432x288 with 2 Axes>"
      ]
     },
     "metadata": {
      "needs_background": "light"
     },
     "output_type": "display_data"
    }
   ],
   "source": [
    "plot_confusion_matrix(gboost_cv,X_test, y_test)"
   ]
  },
  {
   "cell_type": "markdown",
   "metadata": {},
   "source": [
    "## KNN"
   ]
  },
  {
   "cell_type": "code",
   "execution_count": 25,
   "metadata": {},
   "outputs": [
    {
     "data": {
      "application/vnd.jupyter.widget-view+json": {
       "model_id": "fa4db4a9658a48cca3109680694cc478",
       "version_major": 2,
       "version_minor": 0
      },
      "text/plain": [
       "HBox(children=(HTML(value=''), FloatProgress(value=1.0, bar_style='info', layout=Layout(width='20px'), max=1.0…"
      ]
     },
     "metadata": {},
     "output_type": "display_data"
    },
    {
     "name": "stdout",
     "output_type": "stream",
     "text": [
      "\n"
     ]
    }
   ],
   "source": [
    "from sklearn.neighbors import KNeighborsClassifier\n",
    "from tqdm.notebook import tqdm\n",
    "#Setup arrays to store training and test accuracies\n",
    "neighbors = np.arange(4,10)\n",
    "train_accuracy =np.empty(len(neighbors))\n",
    "test_accuracy = np.empty(len(neighbors))\n",
    "\n",
    "for i,k in tqdm(enumerate(neighbors)):\n",
    "    knn = KNeighborsClassifier(n_neighbors=k, n_jobs=-1)\n",
    "    knn.fit(X_resampled, y_resampled)\n",
    "    train_accuracy[i] = knn.score(X_resampled, y_resampled)\n",
    "    test_accuracy[i] = knn.score(X_test, y_test) \n",
    "\n"
   ]
  },
  {
   "cell_type": "code",
   "execution_count": 26,
   "metadata": {},
   "outputs": [
    {
     "data": {
      "image/png": "[encoded data removed]",
      "text/plain": [
       "<Figure size 432x288 with 1 Axes>"
      ]
     },
     "metadata": {
      "needs_background": "light"
     },
     "output_type": "display_data"
    }
   ],
   "source": [
    "plt.title('k-NN Varying number of neighbors')\n",
    "plt.plot(neighbors, test_accuracy, label='Testing Accuracy')\n",
    "plt.plot(neighbors, train_accuracy, label='Training accuracy')\n",
    "plt.legend()\n",
    "plt.xlabel('Number of neighbors')\n",
    "plt.ylabel('Accuracy')\n",
    "plt.show()\n"
   ]
  },
  {
   "cell_type": "code",
   "execution_count": 27,
   "metadata": {},
   "outputs": [
    {
     "data": {
      "text/plain": [
       "0.6996012405848472"
      ]
     },
     "execution_count": 27,
     "metadata": {},
     "output_type": "execute_result"
    }
   ],
   "source": [
    "knn = KNeighborsClassifier(n_neighbors=4)\n",
    "knn.fit(X_resampled,y_resampled)\n",
    "knn.score(X_test,y_test)"
   ]
  },
  {
   "cell_type": "code",
   "execution_count": 28,
   "metadata": {},
   "outputs": [
    {
     "name": "stdout",
     "output_type": "stream",
     "text": [
      "              precision    recall  f1-score   support\n",
      "\n",
      "           0       0.94      0.70      0.80      7961\n",
      "           1       0.23      0.67      0.35      1067\n",
      "\n",
      "    accuracy                           0.70      9028\n",
      "   macro avg       0.59      0.69      0.58      9028\n",
      "weighted avg       0.86      0.70      0.75      9028\n",
      "\n"
     ]
    }
   ],
   "source": [
    "y_pred = knn.predict(X_test)\n",
    "y_true, y_pred = y_test, knn.predict(X_test)\n",
    "print(classification_report(y_true, y_pred))"
   ]
  },
  {
   "cell_type": "code",
   "execution_count": 29,
   "metadata": {},
   "outputs": [
    {
     "data": {
      "text/plain": [
       "<sklearn.metrics._plot.confusion_matrix.ConfusionMatrixDisplay at 0x7f88f5daf3a0>"
      ]
     },
     "execution_count": 29,
     "metadata": {},
     "output_type": "execute_result"
    },
    {
     "data": {
      "image/png": "[encoded data removed]",
      "text/plain": [
       "<Figure size 432x288 with 2 Axes>"
      ]
     },
     "metadata": {
      "needs_background": "light"
     },
     "output_type": "display_data"
    }
   ],
   "source": [
    "plot_confusion_matrix(knn,X_test, y_test)"
   ]
  },
  {
   "cell_type": "code",
   "execution_count": null,
   "metadata": {},
   "outputs": [],
   "source": []
  }
 ],
 "metadata": {
  "kernelspec": {
   "display_name": "env_project_1",
   "language": "python",
   "name": "env_project_1"
  },
  "language_info": {
   "codemirror_mode": {
    "name": "ipython",
    "version": 3
   },
   "file_extension": ".py",
   "mimetype": "text/x-python",
   "name": "python",
   "nbconvert_exporter": "python",
   "pygments_lexer": "ipython3",
   "version": "3.8.6"
  }
 },
 "nbformat": 4,
 "nbformat_minor": 4
}
