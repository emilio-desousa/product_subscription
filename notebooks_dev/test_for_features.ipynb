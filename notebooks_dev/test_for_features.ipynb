{
 "cells": [
  {
   "cell_type": "code",
   "execution_count": 1,
   "metadata": {},
   "outputs": [],
   "source": [
    "from product_sub.infrastructure.dataset_builder import DatasetBuilder\n",
    "from product_sub.domain.pipeline_creator import PipelineCreator\n",
    "import product_sub.settings as stg\n",
    "\n",
    "import product_sub.settings as stg\n",
    "\n",
    "import seaborn as sns\n",
    "import matplotlib.pyplot as plt\n",
    "from sklearn.model_selection import train_test_split\n",
    "from sklearn.pipeline import FeatureUnion, Pipeline,  make_pipeline, make_union\n",
    "from sklearn.preprocessing import StandardScaler, MinMaxScaler\n",
    "from sklearn.metrics import accuracy_score\n",
    "from sklearn.model_selection import StratifiedKFold, GridSearchCV\n",
    "from sklearn.metrics import classification_report\n",
    "\n",
    "from sklearn.ensemble import GradientBoostingClassifier, RandomForestClassifier\n",
    "from sklearn.compose import make_column_selector as selector\n",
    "from sklearn.compose import ColumnTransformer\n",
    "\n",
    "import numpy as np\n",
    "import pandas as pd\n",
    "\n",
    "\n",
    "RANDOM_STATE=42"
   ]
  },
  {
   "cell_type": "markdown",
   "metadata": {},
   "source": [
    "### Create Dataset"
   ]
  },
  {
   "cell_type": "code",
   "execution_count": 2,
   "metadata": {},
   "outputs": [
    {
     "ename": "NameError",
     "evalue": "name 'dataset_merged' is not defined",
     "output_type": "error",
     "traceback": [
      "\u001b[0;31m---------------------------------------------------------------------------\u001b[0m",
      "\u001b[0;31mNameError\u001b[0m                                 Traceback (most recent call last)",
      "\u001b[0;32m<ipython-input-2-c04d74d6dcac>\u001b[0m in \u001b[0;36m<module>\u001b[0;34m\u001b[0m\n\u001b[0;32m----> 1\u001b[0;31m \u001b[0msns\u001b[0m\u001b[0;34m.\u001b[0m\u001b[0mdistplot\u001b[0m\u001b[0;34m(\u001b[0m\u001b[0mdataset_merged\u001b[0m\u001b[0;34m[\u001b[0m\u001b[0mdataset_merged\u001b[0m\u001b[0;34m[\u001b[0m\u001b[0mstg\u001b[0m\u001b[0;34m.\u001b[0m\u001b[0mCOL_RAW_NB_DAY_LAST_CONTACT\u001b[0m\u001b[0;34m]\u001b[0m\u001b[0;34m>\u001b[0m\u001b[0;34m-\u001b[0m\u001b[0;36m1\u001b[0m\u001b[0;34m]\u001b[0m\u001b[0;34m[\u001b[0m\u001b[0mstg\u001b[0m\u001b[0;34m.\u001b[0m\u001b[0mCOL_RAW_NB_DAY_LAST_CONTACT\u001b[0m\u001b[0;34m]\u001b[0m\u001b[0;34m)\u001b[0m\u001b[0;34m\u001b[0m\u001b[0;34m\u001b[0m\u001b[0m\n\u001b[0m",
      "\u001b[0;31mNameError\u001b[0m: name 'dataset_merged' is not defined"
     ]
    }
   ],
   "source": [
    "sns.distplot(dataset_merged[dataset_merged[stg.COL_RAW_NB_DAY_LAST_CONTACT]>-1][stg.COL_RAW_NB_DAY_LAST_CONTACT])"
   ]
  },
  {
   "cell_type": "markdown",
   "metadata": {},
   "source": [
    "### Pipeline"
   ]
  },
  {
   "cell_type": "code",
   "execution_count": 3,
   "metadata": {},
   "outputs": [
    {
     "name": "stdout",
     "output_type": "stream",
     "text": [
      "        AGE  HAS_DEFAULT  BALANCE  HAS_HOUSING_LOAN  HAS_PERSO_LOAN  \\\n",
      "2053   45.0            0      101                 1             0.0   \n",
      "29618  28.0            0     3026                 0             0.0   \n",
      "31449  36.0            0     9324                 1             0.0   \n",
      "20076  32.0            0      727                 0             0.0   \n",
      "43441  33.0            0      658                 1             0.0   \n",
      "...     ...          ...      ...               ...             ...   \n",
      "11284  44.0            0     1059                 0             0.0   \n",
      "44732  23.0            0      508                 0             0.0   \n",
      "38158  34.0            0     1317                 1             0.0   \n",
      "860    33.0            0      165                 0             0.0   \n",
      "15795  38.0            0      -41                 1             0.0   \n",
      "\n",
      "       DURATION_CONTACT  NB_CONTACT  NB_DAY_LAST_CONTACT  \\\n",
      "2053                  1           5                    0   \n",
      "29618                 1           1                    0   \n",
      "31449                 1           8                    0   \n",
      "20076                 0           4                    0   \n",
      "43441                 0           1                    2   \n",
      "...                 ...         ...                  ...   \n",
      "11284                 3           1                    0   \n",
      "44732                 1           1                    2   \n",
      "38158                 1           1                    0   \n",
      "860                   1           1                    0   \n",
      "15795                 0          10                    0   \n",
      "\n",
      "       NB_CONTACT_LAST_CAMPAIGN  EMPLOYMENT_VARIATION_RATE  \\\n",
      "2053                          0                        1.1   \n",
      "29618                         0                       -0.2   \n",
      "31449                         0                       -1.8   \n",
      "20076                         0                        1.4   \n",
      "43441                         1                       -1.8   \n",
      "...                         ...                        ...   \n",
      "11284                         0                        1.4   \n",
      "44732                         1                       -1.1   \n",
      "38158                         0                       -1.8   \n",
      "860                           0                        1.1   \n",
      "15795                         0                        1.4   \n",
      "\n",
      "       IDX_CONSUMER_PRICE  IDX_CONSUMER_CONFIDENCE  MONTH  WEEKDAY  \\\n",
      "2053               93.994                    -36.4      5        0   \n",
      "29618                 NaN                      NaN      2        1   \n",
      "31449              92.843                    -50.0      3        0   \n",
      "20076              93.444                    -36.1      8        0   \n",
      "43441              93.749                    -34.6      4        0   \n",
      "...                   ...                      ...    ...      ...   \n",
      "11284              94.465                    -41.8      6        2   \n",
      "44732              94.199                    -37.5      9        2   \n",
      "38158              92.893                    -46.2      5        4   \n",
      "860                93.994                    -36.4      5        2   \n",
      "15795              93.918                    -42.7      7        0   \n",
      "\n",
      "       is_first_campaign  \n",
      "2053                   0  \n",
      "29618                  0  \n",
      "31449                  0  \n",
      "20076                  0  \n",
      "43441                  0  \n",
      "...                  ...  \n",
      "11284                  0  \n",
      "44732                  0  \n",
      "38158                  0  \n",
      "860                    0  \n",
      "15795                  0  \n",
      "\n",
      "[36108 rows x 15 columns]\n",
      "        AGE  HAS_DEFAULT  BALANCE  HAS_HOUSING_LOAN  HAS_PERSO_LOAN  \\\n",
      "26995  30.0            0     4642                 1             0.0   \n",
      "17366  31.0            1       20                 1             0.0   \n",
      "25076  38.0            0     3234                 0             0.0   \n",
      "18275  41.0            0     1138                 0             0.0   \n",
      "429    40.0            0      217                 1             0.0   \n",
      "...     ...          ...      ...               ...             ...   \n",
      "33846  77.0            0     1208                 0             0.0   \n",
      "5231   33.0            0      884                 1             0.0   \n",
      "27678  37.0            0        0                 1             0.0   \n",
      "83     59.0            0     2343                 1             0.0   \n",
      "31803  27.0            0      128                 0             0.0   \n",
      "\n",
      "       DURATION_CONTACT  NB_CONTACT  NB_DAY_LAST_CONTACT  \\\n",
      "26995                 2           1                    0   \n",
      "17366                 1           5                    0   \n",
      "25076                 2           2                    0   \n",
      "18275                 1          18                    0   \n",
      "429                   1           1                    0   \n",
      "...                 ...         ...                  ...   \n",
      "33846                 0           4                    0   \n",
      "5231                  1           1                    0   \n",
      "27678                 0           3                    2   \n",
      "83                    3           1                    0   \n",
      "31803                 0           1                    0   \n",
      "\n",
      "       NB_CONTACT_LAST_CAMPAIGN  EMPLOYMENT_VARIATION_RATE  \\\n",
      "26995                         0                       -0.1   \n",
      "17366                         0                        1.4   \n",
      "25076                         0                       -0.1   \n",
      "18275                         0                        1.4   \n",
      "429                           0                        1.1   \n",
      "...                         ...                        ...   \n",
      "33846                         0                       -1.8   \n",
      "5231                          0                        1.1   \n",
      "27678                         1                       -0.1   \n",
      "83                            0                        1.1   \n",
      "31803                         0                       -1.8   \n",
      "\n",
      "       IDX_CONSUMER_PRICE  IDX_CONSUMER_CONFIDENCE  MONTH  WEEKDAY  \\\n",
      "26995              93.200                    -42.0     11        4   \n",
      "17366              93.918                    -42.7      7        0   \n",
      "25076              93.200                    -42.0     11        1   \n",
      "18275              93.918                    -42.7      7        3   \n",
      "429                93.994                    -36.4      5        1   \n",
      "...                   ...                      ...    ...      ...   \n",
      "33846              93.075                    -47.1      4        1   \n",
      "5231               93.994                    -36.4      5        4   \n",
      "27678              93.200                    -42.0     11        4   \n",
      "83                 93.994                    -36.4      5        0   \n",
      "31803              93.075                    -47.1      4        2   \n",
      "\n",
      "       is_first_campaign  \n",
      "26995                  0  \n",
      "17366                  0  \n",
      "25076                  0  \n",
      "18275                  0  \n",
      "429                    0  \n",
      "...                  ...  \n",
      "33846                  0  \n",
      "5231                   0  \n",
      "27678                  0  \n",
      "83                     0  \n",
      "31803                  0  \n",
      "\n",
      "[9028 rows x 15 columns]\n"
     ]
    }
   ],
   "source": [
    "dataset_merged = DatasetBuilder(\n",
    "    filename_bank=stg.FILENAME_BANK, filename_socio=stg.FILENAME_SOCIO_ECO\n",
    ").create_dataset()\n",
    "X = dataset_merged.drop(columns=stg.COL_RAW_SUBSCRIPTION)\n",
    "y = dataset_merged[stg.COL_RAW_SUBSCRIPTION].values\n",
    "\n",
    "X_train, X_test, y_train, y_test = train_test_split(\n",
    "    X, y, test_size=0.2, random_state=stg.RANDOM_STATE\n",
    ")\n",
    "\n",
    "custom_pipeline_accessor = PipelineCreator()\n",
    "preprocessor = custom_pipeline_accessor.preprocessor\n",
    "\n",
    "clf = Pipeline(steps=[ ('preprocessor' , preprocessor),\n",
    "                           ('rf',  RandomForestClassifier()) ])\n",
    "rf = RandomForestClassifier()\n",
    "X_train = preprocessor.fit_transform(X_train)\n",
    "X_test = preprocessor.transform(X_test)"
   ]
  },
  {
   "cell_type": "code",
   "execution_count": 4,
   "metadata": {},
   "outputs": [
    {
     "data": {
      "text/plain": [
       "(9028, 32)"
      ]
     },
     "execution_count": 4,
     "metadata": {},
     "output_type": "execute_result"
    }
   ],
   "source": [
    "X_test.shape"
   ]
  },
  {
   "cell_type": "code",
   "execution_count": 5,
   "metadata": {},
   "outputs": [
    {
     "data": {
      "text/plain": [
       "(36108, 32)"
      ]
     },
     "execution_count": 5,
     "metadata": {},
     "output_type": "execute_result"
    }
   ],
   "source": [
    "X_train.shape\n"
   ]
  },
  {
   "cell_type": "code",
   "execution_count": 6,
   "metadata": {},
   "outputs": [
    {
     "data": {
      "text/plain": [
       "array([1, 0, 0, ..., 0, 0, 0])"
      ]
     },
     "execution_count": 6,
     "metadata": {},
     "output_type": "execute_result"
    }
   ],
   "source": [
    "rf = RandomForestClassifier()\n",
    "grid_params_rf = [{\n",
    "                'criterion': ['entropy'],\n",
    "                'min_samples_leaf': [40, 80],\n",
    "                'max_depth': [15,25, 27],\n",
    "                'min_samples_split': [3, 5, 10],\n",
    "                'n_estimators' : [60, 70]\n",
    "                }]\n",
    "cv = StratifiedKFold(shuffle=True, n_splits=5, random_state=RANDOM_STATE)\n",
    "search = GridSearchCV(rf, grid_params_rf, n_jobs=-1, refit=True)\n",
    "search.fit(X_train, y_train)\n",
    "y_train"
   ]
  },
  {
   "cell_type": "code",
   "execution_count": 8,
   "metadata": {},
   "outputs": [
    {
     "data": {
      "text/plain": [
       "{'criterion': 'entropy',\n",
       " 'max_depth': 27,\n",
       " 'min_samples_leaf': 40,\n",
       " 'min_samples_split': 10,\n",
       " 'n_estimators': 60}"
      ]
     },
     "execution_count": 8,
     "metadata": {},
     "output_type": "execute_result"
    }
   ],
   "source": [
    "search.best_params_"
   ]
  },
  {
   "cell_type": "code",
   "execution_count": 9,
   "metadata": {},
   "outputs": [],
   "source": [
    "rf = RandomForestClassifier(criterion='entropy', max_depth=27, min_samples_leaf=40, min_samples_split=10, n_estimators=60)\n",
    "rdf = rf.fit(X_train, y_train)"
   ]
  },
  {
   "cell_type": "code",
   "execution_count": 10,
   "metadata": {},
   "outputs": [
    {
     "data": {
      "text/plain": [
       "(32,)"
      ]
     },
     "execution_count": 10,
     "metadata": {},
     "output_type": "execute_result"
    }
   ],
   "source": [
    "rdf.feature_importances_.shape"
   ]
  },
  {
   "cell_type": "code",
   "execution_count": 11,
   "metadata": {},
   "outputs": [],
   "source": [
    "def plot_feature_importance(importance,names,model_type):\n",
    "\n",
    "    #Create arrays from feature importance and feature names\n",
    "    feature_importance = np.array(importance)\n",
    "    feature_names = np.array(names)\n",
    "\n",
    "    #Create a DataFrame using a Dictionary\n",
    "    data={'feature_names':feature_names,'feature_importance':feature_importance}\n",
    "    fi_df = pd.DataFrame(data)\n",
    "\n",
    "    #Sort the DataFrame in order decreasing feature importance\n",
    "    fi_df.sort_values(by=['feature_importance'], ascending=False,inplace=True)\n",
    "\n",
    "    #Define size of bar plot\n",
    "    plt.figure(figsize=(10,8))\n",
    "    #Plot Searborn bar chart\n",
    "    sns.barplot(x=fi_df['feature_importance'], y=fi_df['feature_names'])\n",
    "    #Add chart labels\n",
    "    plt.title(model_type + 'FEATURE IMPORTANCE')\n",
    "    plt.xlabel('FEATURE IMPORTANCE')\n",
    "    plt.ylabel('FEATURE NAMES')"
   ]
  },
  {
   "cell_type": "code",
   "execution_count": 12,
   "metadata": {},
   "outputs": [],
   "source": [
    "FINAL_COLUMNS = [\n",
    "    stg.COL_RAW_AGE,\n",
    "    stg.COL_RAW_HAS_DEFAULT,\n",
    "    stg.COL_RAW_BALANCE,\n",
    "    stg.COL_RAW_HAS_HOUSING_LOAN,\n",
    "    stg.COL_RAW_HAS_PERSO_LOAN,\n",
    "    stg.COL_RAW_DURATION_CONTACT,\n",
    "    stg.COL_RAW_NB_CONTACT,\n",
    "    stg.COL_RAW_NB_DAY_LAST_CONTACT,\n",
    "    stg.COL_RAW_NB_CONTACT_LAST_CAMPAIGN,\n",
    "    stg.COL_RAW_EMPL_VAR_RATE,\n",
    "    stg.COL_RAW_IDX_CSMR_PRICE,\n",
    "    stg.COL_RAW_IDX_CSMR_CONFIDENCE,\n",
    "    stg.COL_MONTH,\n",
    "    stg.COL_WEEKDAY,\n",
    "    \"is_first_campaign\",\n",
    "    # \"nb_contact_last_campaign_inf_4\",\n",
    "    # \"nb_contact_last_campaign_inf_8\",\n",
    "    # \"nb_contact_last_campaign_inf_12\",\n",
    "    # \"nb_contact_last_campaign_sup_12\",\n",
    "    # \"short_duration_contact\",\n",
    "    # \"middle_duration_contact\",\n",
    "    # \"long_duration_contact\",\n",
    "    # \"so_long_contact\",\n",
    "    stg.COL_RAW_STATUS,\n",
    "    stg.COL_RAW_EDUCATION,\n",
    "    stg.COL_RAW_CONTACT,\n",
    "    \"is_last_campaign_success\",\n",
    "    \"is_last_campaign_fail\",\n",
    "    \"Admin\",\n",
    "    \"Chomeur\",\n",
    "    \"Col bleu\",\n",
    "    \"Employe de menage\",\n",
    "    \"Entrepreneur\",\n",
    "    \"Etudiant\",\n",
    "    \"Independant\",\n",
    "    \"Manager\",\n",
    "    \"Retraite\",\n",
    "    \"Services\",\n",
    "    \"Technicien\",\n",
    "    \"Autre\",\n",
    "]"
   ]
  },
  {
   "cell_type": "code",
   "execution_count": 13,
   "metadata": {},
   "outputs": [
    {
     "data": {
      "text/plain": [
       "32"
      ]
     },
     "execution_count": 13,
     "metadata": {},
     "output_type": "execute_result"
    }
   ],
   "source": [
    "len(FINAL_COLUMNS)"
   ]
  },
  {
   "cell_type": "code",
   "execution_count": 14,
   "metadata": {},
   "outputs": [
    {
     "data": {
      "text/plain": [
       "(32,)"
      ]
     },
     "execution_count": 14,
     "metadata": {},
     "output_type": "execute_result"
    }
   ],
   "source": [
    "rdf.feature_importances_.shape"
   ]
  },
  {
   "cell_type": "code",
   "execution_count": 16,
   "metadata": {},
   "outputs": [
    {
     "data": {
      "image/png": "[encoded data removed]",
      "text/plain": [
       "<Figure size 720x576 with 1 Axes>"
      ]
     },
     "metadata": {
      "needs_background": "light"
     },
     "output_type": "display_data"
    }
   ],
   "source": [
    "plot_feature_importance(rdf.feature_importances_,FINAL_COLUMNS,'RANDOM FOREST')"
   ]
  },
  {
   "cell_type": "code",
   "execution_count": null,
   "metadata": {},
   "outputs": [],
   "source": []
  }
 ],
 "metadata": {
  "kernelspec": {
   "display_name": "env_project_1",
   "language": "python",
   "name": "env_project_1"
  },
  "language_info": {
   "codemirror_mode": {
    "name": "ipython",
    "version": 3
   },
   "file_extension": ".py",
   "mimetype": "text/x-python",
   "name": "python",
   "nbconvert_exporter": "python",
   "pygments_lexer": "ipython3",
   "version": "3.8.6"
  }
 },
 "nbformat": 4,
 "nbformat_minor": 4
}
